{
  "nbformat": 4,
  "nbformat_minor": 0,
  "metadata": {
    "colab": {
      "name": "loading_in_dthack_data.ipynb",
      "provenance": [],
      "authorship_tag": "ABX9TyPDFXLCktt3KEWVtkt5LgrX",
      "include_colab_link": true
    },
    "kernelspec": {
      "name": "python3",
      "display_name": "Python 3"
    }
  },
  "cells": [
    {
      "cell_type": "markdown",
      "metadata": {
        "id": "view-in-github",
        "colab_type": "text"
      },
      "source": [
        "<a href=\"https://colab.research.google.com/github/hschilling/blue-old/blob/master/loading_in_dthack_data.ipynb\" target=\"_parent\"><img src=\"https://colab.research.google.com/assets/colab-badge.svg\" alt=\"Open In Colab\"/></a>"
      ]
    },
    {
      "cell_type": "code",
      "metadata": {
        "id": "eNaT_BgFeNw-",
        "colab_type": "code",
        "colab": {}
      },
      "source": [
        "import pandas"
      ],
      "execution_count": 1,
      "outputs": []
    },
    {
      "cell_type": "code",
      "metadata": {
        "id": "1JGSfV9UfU-s",
        "colab_type": "code",
        "colab": {}
      },
      "source": [
        "grades = {'Bart':75, 'Lisa':98, 'Milhouse':80, 'Nelson':65}\n",
        "\n",
        "import pickle              # import module first\n",
        "\n",
        "f = open('gradesdict.pkl', 'wb')   # Pickle file is newly created where foo1.py is\n",
        "pickle.dump(grades, f)          # dump data to f\n",
        "f.close()                 \n"
      ],
      "execution_count": 3,
      "outputs": []
    },
    {
      "cell_type": "code",
      "metadata": {
        "id": "P6KSWglpfufO",
        "colab_type": "code",
        "colab": {
          "base_uri": "https://localhost:8080/",
          "height": 34
        },
        "outputId": "feacd037-572b-4691-8bf7-f1fee2059d99"
      },
      "source": [
        "import pickle              # import module first\n",
        "\n",
        "f = open('gradesdict.pkl', 'rb')   # 'r' for reading; can be omitted\n",
        "mydict = pickle.load(f)         # load file content as mydict\n",
        "f.close()                       \n",
        "\n",
        "print(mydict)\n",
        "# prints {'Lisa': 98, 'Bart': 75, 'Milhouse': 80, 'Nelson': 65}\n"
      ],
      "execution_count": 5,
      "outputs": [
        {
          "output_type": "stream",
          "text": [
            "{'Bart': 75, 'Lisa': 98, 'Milhouse': 80, 'Nelson': 65}\n"
          ],
          "name": "stdout"
        }
      ]
    },
    {
      "cell_type": "code",
      "metadata": {
        "id": "1GU-Z8scgO2y",
        "colab_type": "code",
        "colab": {}
      },
      "source": [
        "f = open('/content/arc-code-ti-publications.pkl', 'rb')   # 'r' for reading; can be omitted\n",
        "mydict = pickle.load(f)         # load file content as mydict\n",
        "f.close()                       \n",
        "\n",
        "#print(mydict)"
      ],
      "execution_count": 7,
      "outputs": []
    },
    {
      "cell_type": "code",
      "metadata": {
        "id": "siQj4j5Vhz5H",
        "colab_type": "code",
        "colab": {
          "base_uri": "https://localhost:8080/",
          "height": 824
        },
        "outputId": "432912e7-49b6-4d89-f78c-b855c37359da"
      },
      "source": [
        "mydict"
      ],
      "execution_count": 8,
      "outputs": [
        {
          "output_type": "execute_result",
          "data": {
            "text/html": [
              "<div>\n",
              "<style scoped>\n",
              "    .dataframe tbody tr th:only-of-type {\n",
              "        vertical-align: middle;\n",
              "    }\n",
              "\n",
              "    .dataframe tbody tr th {\n",
              "        vertical-align: top;\n",
              "    }\n",
              "\n",
              "    .dataframe thead th {\n",
              "        text-align: right;\n",
              "    }\n",
              "</style>\n",
              "<table border=\"1\" class=\"dataframe\">\n",
              "  <thead>\n",
              "    <tr style=\"text-align: right;\">\n",
              "      <th></th>\n",
              "      <th>Link</th>\n",
              "      <th>Text</th>\n",
              "      <th>Info</th>\n",
              "      <th>Abstract</th>\n",
              "      <th>Abstract Length</th>\n",
              "      <th>Title</th>\n",
              "      <th>Authors</th>\n",
              "      <th>Publisher</th>\n",
              "      <th>Date</th>\n",
              "    </tr>\n",
              "    <tr>\n",
              "      <th>Index</th>\n",
              "      <th></th>\n",
              "      <th></th>\n",
              "      <th></th>\n",
              "      <th></th>\n",
              "      <th></th>\n",
              "      <th></th>\n",
              "      <th></th>\n",
              "      <th></th>\n",
              "      <th></th>\n",
              "    </tr>\n",
              "  </thead>\n",
              "  <tbody>\n",
              "    <tr>\n",
              "      <th>0</th>\n",
              "      <td>http://ti.arc.nasa.gov/publications/78540/down...</td>\n",
              "      <td>Adaptive Stress Testing of Trajectory Predicti...</td>\n",
              "      <td>['\\n', 'Adaptive Stress Testing of Trajectory ...</td>\n",
              "      <td>\\n\\n \\nA primary component of flight managemen...</td>\n",
              "      <td>1412</td>\n",
              "      <td>Adaptive Stress Testing of Trajectory Predicti...</td>\n",
              "      <td>Ritchie Lee,Robert Moss,Mykel Kochenderfer</td>\n",
              "      <td>Published at: Conference: 39th digital Avionic...</td>\n",
              "      <td>10/13/20</td>\n",
              "    </tr>\n",
              "    <tr>\n",
              "      <th>1</th>\n",
              "      <td>http://ti.arc.nasa.gov/publications/2020500198...</td>\n",
              "      <td>Capturing &amp; Analyzing Requirements with FRET\\n...</td>\n",
              "      <td>['\\n', 'Capturing &amp; Analyzing Requirements wit...</td>\n",
              "      <td>\\n\\n§ Exceeding sensor limits shall latch an a...</td>\n",
              "      <td>378</td>\n",
              "      <td>Capturing &amp; Analyzing Requirements with FRET</td>\n",
              "      <td>Dimitra Giannakopoulou</td>\n",
              "      <td>Published at: Presentation; NASA SWS technical...</td>\n",
              "      <td>05/08/20</td>\n",
              "    </tr>\n",
              "    <tr>\n",
              "      <th>2</th>\n",
              "      <td>http://ti.arc.nasa.gov/publications/ 202050004...</td>\n",
              "      <td>PDF error occurred</td>\n",
              "      <td>['\\n', 'MBSwE for Autonomous Systems withReuse...</td>\n",
              "      <td>error</td>\n",
              "      <td>5</td>\n",
              "      <td>MBSwE for Autonomous Systems withReuse: Softwa...</td>\n",
              "      <td>Johann Schumann,Yuning He</td>\n",
              "      <td>Published at: Contractor Report (CR)</td>\n",
              "      <td>04/16/20</td>\n",
              "    </tr>\n",
              "    <tr>\n",
              "      <th>3</th>\n",
              "      <td>http://ti.arc.nasa.gov/publications/2020500043...</td>\n",
              "      <td>The Ten Lockheed Martin Cyber-Physical\\n\\nChal...</td>\n",
              "      <td>['\\n', 'The Ten Lockheed Martin Cyber-Physical...</td>\n",
              "      <td>\\n\\nAbstract—Capturing and analyzing requireme...</td>\n",
              "      <td>1226</td>\n",
              "      <td>The Ten Lockheed Martin Cyber-Physical Challen...</td>\n",
              "      <td>Anastasia Mavridou,Hamza Bourbouh,Dimitra Gian...</td>\n",
              "      <td>Published at: Conference Paper; 28th IEEE Inte...</td>\n",
              "      <td>04/16/20</td>\n",
              "    </tr>\n",
              "    <tr>\n",
              "      <th>4</th>\n",
              "      <td>http://ti.arc.nasa.gov/publications/77781/down...</td>\n",
              "      <td>Generation of Formal Requirements from\\n\\nStru...</td>\n",
              "      <td>['\\n', 'Generation of Formal Requirements from...</td>\n",
              "      <td>error</td>\n",
              "      <td>5</td>\n",
              "      <td>Generation of Formal Requirements from Structu...</td>\n",
              "      <td>Dimitra Giannakopoulou,Tom Pressburger,Anastas...</td>\n",
              "      <td>Published at: Conference: 26th REFSQ-2020; Pis...</td>\n",
              "      <td>03/24/20</td>\n",
              "    </tr>\n",
              "    <tr>\n",
              "      <th>...</th>\n",
              "      <td>...</td>\n",
              "      <td>...</td>\n",
              "      <td>...</td>\n",
              "      <td>...</td>\n",
              "      <td>...</td>\n",
              "      <td>...</td>\n",
              "      <td>...</td>\n",
              "      <td>...</td>\n",
              "      <td>...</td>\n",
              "    </tr>\n",
              "    <tr>\n",
              "      <th>669</th>\n",
              "      <td>http://ti.arc.nasa.gov/publications/120/download/</td>\n",
              "      <td>A Flexible Evolvable Architecture for Constell...</td>\n",
              "      <td>['\\n', 'A Flexible Evolvable Architecture for ...</td>\n",
              "      <td>\\n\\nWhile simulating a complex set of repair t...</td>\n",
              "      <td>1794</td>\n",
              "      <td>A Flexible Evolvable Architecture for Constell...</td>\n",
              "      <td>Jay Trimble</td>\n",
              "      <td>Published at: SpaceOps 2008</td>\n",
              "      <td>05/15/08</td>\n",
              "    </tr>\n",
              "    <tr>\n",
              "      <th>670</th>\n",
              "      <td>http://ti.arc.nasa.gov/publications/173/download/</td>\n",
              "      <td>Extended Abstract:\\nGeneral Purpose Data-Drive...</td>\n",
              "      <td>['\\n', 'General Purpose Data-Driven Monitoring...</td>\n",
              "      <td>Abstract:\\nGeneral Purpose Data-Driven System ...</td>\n",
              "      <td>2370</td>\n",
              "      <td>General Purpose Data-Driven Monitoring for Spa...</td>\n",
              "      <td>David Iverson</td>\n",
              "      <td>Published at: Infotech@Aerospace</td>\n",
              "      <td>04/06/08</td>\n",
              "    </tr>\n",
              "    <tr>\n",
              "      <th>671</th>\n",
              "      <td>http://ti.arc.nasa.gov/publications/196/download/</td>\n",
              "      <td>1\\n\\nPARAMETRIC ANALYSIS OF A HOVER TEST VEHIC...</td>\n",
              "      <td>['\\n', 'Parametric Analysis of a Hover Test Ve...</td>\n",
              "      <td>\\n\\nLarge complex aerospace systems are genera...</td>\n",
              "      <td>1295</td>\n",
              "      <td>Parametric Analysis of a Hover Test Vehicle us...</td>\n",
              "      <td>Karen Gundy-Burlet</td>\n",
              "      <td>Published at: AIAA Infotech@Aerospace Conferen...</td>\n",
              "      <td>04/05/08</td>\n",
              "    </tr>\n",
              "    <tr>\n",
              "      <th>672</th>\n",
              "      <td>http://ti.arc.nasa.gov/publications/211/download/</td>\n",
              "      <td>\\n\\n \\n\\n \\n\\nBringing Web 2.0 to Government ...</td>\n",
              "      <td>['\\n', 'Bringing Web 2.0 to Government Researc...</td>\n",
              "      <td>\\n\\nAbstract \\nDASHlink is a public NASA resea...</td>\n",
              "      <td>563</td>\n",
              "      <td>Bringing Web 2.0 to Government Research: A Cas...</td>\n",
              "      <td>Francesca Barrientos</td>\n",
              "      <td>Published at: CHI 2009</td>\n",
              "      <td>04/04/08</td>\n",
              "    </tr>\n",
              "    <tr>\n",
              "      <th>673</th>\n",
              "      <td>http://ti.arc.nasa.gov/publications/23966/down...</td>\n",
              "      <td>Online Detection and Modeling of Safety\\n\\nBou...</td>\n",
              "      <td>['\\n', 'Online Dectection and Modeling of safe...</td>\n",
              "      <td>\\n\\nAbstract—The behavior of complex aerospace...</td>\n",
              "      <td>1057</td>\n",
              "      <td>Online Dectection and Modeling of safety bound...</td>\n",
              "      <td>Yuning He</td>\n",
              "      <td>Published at: Conference: International Joint ...</td>\n",
              "      <td>07/12/05</td>\n",
              "    </tr>\n",
              "  </tbody>\n",
              "</table>\n",
              "<p>675 rows × 9 columns</p>\n",
              "</div>"
            ],
            "text/plain": [
              "                                                    Link  ...      Date\n",
              "Index                                                     ...          \n",
              "0      http://ti.arc.nasa.gov/publications/78540/down...  ...  10/13/20\n",
              "1      http://ti.arc.nasa.gov/publications/2020500198...  ...  05/08/20\n",
              "2      http://ti.arc.nasa.gov/publications/ 202050004...  ...  04/16/20\n",
              "3      http://ti.arc.nasa.gov/publications/2020500043...  ...  04/16/20\n",
              "4      http://ti.arc.nasa.gov/publications/77781/down...  ...  03/24/20\n",
              "...                                                  ...  ...       ...\n",
              "669    http://ti.arc.nasa.gov/publications/120/download/  ...  05/15/08\n",
              "670    http://ti.arc.nasa.gov/publications/173/download/  ...  04/06/08\n",
              "671    http://ti.arc.nasa.gov/publications/196/download/  ...  04/05/08\n",
              "672    http://ti.arc.nasa.gov/publications/211/download/  ...  04/04/08\n",
              "673    http://ti.arc.nasa.gov/publications/23966/down...  ...  07/12/05\n",
              "\n",
              "[675 rows x 9 columns]"
            ]
          },
          "metadata": {
            "tags": []
          },
          "execution_count": 8
        }
      ]
    },
    {
      "cell_type": "code",
      "metadata": {
        "id": "piDwtmD3h1xS",
        "colab_type": "code",
        "colab": {
          "base_uri": "https://localhost:8080/",
          "height": 34
        },
        "outputId": "069e76bf-170c-4938-b0ec-2af8d43ba72f"
      },
      "source": [
        "type(mydict)"
      ],
      "execution_count": 9,
      "outputs": [
        {
          "output_type": "execute_result",
          "data": {
            "text/plain": [
              "pandas.core.frame.DataFrame"
            ]
          },
          "metadata": {
            "tags": []
          },
          "execution_count": 9
        }
      ]
    },
    {
      "cell_type": "code",
      "metadata": {
        "id": "jxG88bNBiIkG",
        "colab_type": "code",
        "colab": {}
      },
      "source": [
        "pkl = pandas.read_pickle('/content/arc-code-ti-publications.pkl')"
      ],
      "execution_count": 10,
      "outputs": []
    },
    {
      "cell_type": "code",
      "metadata": {
        "id": "SAFbYX2sij92",
        "colab_type": "code",
        "colab": {
          "base_uri": "https://localhost:8080/",
          "height": 34
        },
        "outputId": "71e1845c-0b42-40d1-b457-ac98f56ed823"
      },
      "source": [
        "type(pkl)"
      ],
      "execution_count": 11,
      "outputs": [
        {
          "output_type": "execute_result",
          "data": {
            "text/plain": [
              "pandas.core.frame.DataFrame"
            ]
          },
          "metadata": {
            "tags": []
          },
          "execution_count": 11
        }
      ]
    },
    {
      "cell_type": "code",
      "metadata": {
        "id": "AOU-QtOtinW7",
        "colab_type": "code",
        "colab": {
          "base_uri": "https://localhost:8080/",
          "height": 439
        },
        "outputId": "e8ea8a1f-7a69-4e56-cfe0-aaac029f7c47"
      },
      "source": [
        "pkl.head()"
      ],
      "execution_count": 12,
      "outputs": [
        {
          "output_type": "execute_result",
          "data": {
            "text/html": [
              "<div>\n",
              "<style scoped>\n",
              "    .dataframe tbody tr th:only-of-type {\n",
              "        vertical-align: middle;\n",
              "    }\n",
              "\n",
              "    .dataframe tbody tr th {\n",
              "        vertical-align: top;\n",
              "    }\n",
              "\n",
              "    .dataframe thead th {\n",
              "        text-align: right;\n",
              "    }\n",
              "</style>\n",
              "<table border=\"1\" class=\"dataframe\">\n",
              "  <thead>\n",
              "    <tr style=\"text-align: right;\">\n",
              "      <th></th>\n",
              "      <th>Link</th>\n",
              "      <th>Text</th>\n",
              "      <th>Info</th>\n",
              "      <th>Abstract</th>\n",
              "      <th>Abstract Length</th>\n",
              "      <th>Title</th>\n",
              "      <th>Authors</th>\n",
              "      <th>Publisher</th>\n",
              "      <th>Date</th>\n",
              "    </tr>\n",
              "    <tr>\n",
              "      <th>Index</th>\n",
              "      <th></th>\n",
              "      <th></th>\n",
              "      <th></th>\n",
              "      <th></th>\n",
              "      <th></th>\n",
              "      <th></th>\n",
              "      <th></th>\n",
              "      <th></th>\n",
              "      <th></th>\n",
              "    </tr>\n",
              "  </thead>\n",
              "  <tbody>\n",
              "    <tr>\n",
              "      <th>0</th>\n",
              "      <td>http://ti.arc.nasa.gov/publications/78540/down...</td>\n",
              "      <td>Adaptive Stress Testing of Trajectory Predicti...</td>\n",
              "      <td>['\\n', 'Adaptive Stress Testing of Trajectory ...</td>\n",
              "      <td>\\n\\n \\nA primary component of flight managemen...</td>\n",
              "      <td>1412</td>\n",
              "      <td>Adaptive Stress Testing of Trajectory Predicti...</td>\n",
              "      <td>Ritchie Lee,Robert Moss,Mykel Kochenderfer</td>\n",
              "      <td>Published at: Conference: 39th digital Avionic...</td>\n",
              "      <td>10/13/20</td>\n",
              "    </tr>\n",
              "    <tr>\n",
              "      <th>1</th>\n",
              "      <td>http://ti.arc.nasa.gov/publications/2020500198...</td>\n",
              "      <td>Capturing &amp; Analyzing Requirements with FRET\\n...</td>\n",
              "      <td>['\\n', 'Capturing &amp; Analyzing Requirements wit...</td>\n",
              "      <td>\\n\\n§ Exceeding sensor limits shall latch an a...</td>\n",
              "      <td>378</td>\n",
              "      <td>Capturing &amp; Analyzing Requirements with FRET</td>\n",
              "      <td>Dimitra Giannakopoulou</td>\n",
              "      <td>Published at: Presentation; NASA SWS technical...</td>\n",
              "      <td>05/08/20</td>\n",
              "    </tr>\n",
              "    <tr>\n",
              "      <th>2</th>\n",
              "      <td>http://ti.arc.nasa.gov/publications/ 202050004...</td>\n",
              "      <td>PDF error occurred</td>\n",
              "      <td>['\\n', 'MBSwE for Autonomous Systems withReuse...</td>\n",
              "      <td>error</td>\n",
              "      <td>5</td>\n",
              "      <td>MBSwE for Autonomous Systems withReuse: Softwa...</td>\n",
              "      <td>Johann Schumann,Yuning He</td>\n",
              "      <td>Published at: Contractor Report (CR)</td>\n",
              "      <td>04/16/20</td>\n",
              "    </tr>\n",
              "    <tr>\n",
              "      <th>3</th>\n",
              "      <td>http://ti.arc.nasa.gov/publications/2020500043...</td>\n",
              "      <td>The Ten Lockheed Martin Cyber-Physical\\n\\nChal...</td>\n",
              "      <td>['\\n', 'The Ten Lockheed Martin Cyber-Physical...</td>\n",
              "      <td>\\n\\nAbstract—Capturing and analyzing requireme...</td>\n",
              "      <td>1226</td>\n",
              "      <td>The Ten Lockheed Martin Cyber-Physical Challen...</td>\n",
              "      <td>Anastasia Mavridou,Hamza Bourbouh,Dimitra Gian...</td>\n",
              "      <td>Published at: Conference Paper; 28th IEEE Inte...</td>\n",
              "      <td>04/16/20</td>\n",
              "    </tr>\n",
              "    <tr>\n",
              "      <th>4</th>\n",
              "      <td>http://ti.arc.nasa.gov/publications/77781/down...</td>\n",
              "      <td>Generation of Formal Requirements from\\n\\nStru...</td>\n",
              "      <td>['\\n', 'Generation of Formal Requirements from...</td>\n",
              "      <td>error</td>\n",
              "      <td>5</td>\n",
              "      <td>Generation of Formal Requirements from Structu...</td>\n",
              "      <td>Dimitra Giannakopoulou,Tom Pressburger,Anastas...</td>\n",
              "      <td>Published at: Conference: 26th REFSQ-2020; Pis...</td>\n",
              "      <td>03/24/20</td>\n",
              "    </tr>\n",
              "  </tbody>\n",
              "</table>\n",
              "</div>"
            ],
            "text/plain": [
              "                                                    Link  ...      Date\n",
              "Index                                                     ...          \n",
              "0      http://ti.arc.nasa.gov/publications/78540/down...  ...  10/13/20\n",
              "1      http://ti.arc.nasa.gov/publications/2020500198...  ...  05/08/20\n",
              "2      http://ti.arc.nasa.gov/publications/ 202050004...  ...  04/16/20\n",
              "3      http://ti.arc.nasa.gov/publications/2020500043...  ...  04/16/20\n",
              "4      http://ti.arc.nasa.gov/publications/77781/down...  ...  03/24/20\n",
              "\n",
              "[5 rows x 9 columns]"
            ]
          },
          "metadata": {
            "tags": []
          },
          "execution_count": 12
        }
      ]
    },
    {
      "cell_type": "code",
      "metadata": {
        "id": "YP6Tu457iqG7",
        "colab_type": "code",
        "colab": {
          "base_uri": "https://localhost:8080/",
          "height": 68
        },
        "outputId": "9ed19b9b-ce84-497e-8c0c-8fe83bab2dca"
      },
      "source": [
        "pkl.columns"
      ],
      "execution_count": 13,
      "outputs": [
        {
          "output_type": "execute_result",
          "data": {
            "text/plain": [
              "Index(['Link', 'Text', 'Info', 'Abstract', 'Abstract Length', 'Title',\n",
              "       'Authors', 'Publisher', 'Date'],\n",
              "      dtype='object')"
            ]
          },
          "metadata": {
            "tags": []
          },
          "execution_count": 13
        }
      ]
    },
    {
      "cell_type": "code",
      "metadata": {
        "id": "dE6R9cjmiuFX",
        "colab_type": "code",
        "colab": {
          "base_uri": "https://localhost:8080/",
          "height": 85
        },
        "outputId": "10c748d3-7875-47a2-d907-e738fa23b88c"
      },
      "source": [
        "pkl.index"
      ],
      "execution_count": 14,
      "outputs": [
        {
          "output_type": "execute_result",
          "data": {
            "text/plain": [
              "Index(['0', '1', '2', '3', '4', '5', '6', '7', '8', '9',\n",
              "       ...\n",
              "       '664', '665', '666', '667', '668', '669', '670', '671', '672', '673'],\n",
              "      dtype='object', name='Index', length=675)"
            ]
          },
          "metadata": {
            "tags": []
          },
          "execution_count": 14
        }
      ]
    },
    {
      "cell_type": "code",
      "metadata": {
        "id": "vLOs5AGXi5xU",
        "colab_type": "code",
        "colab": {
          "base_uri": "https://localhost:8080/",
          "height": 187
        },
        "outputId": "5c9b70a4-dd07-4b8b-ec16-60753a6c4a71"
      },
      "source": [
        "pkl.dtypes"
      ],
      "execution_count": 15,
      "outputs": [
        {
          "output_type": "execute_result",
          "data": {
            "text/plain": [
              "Link               object\n",
              "Text               object\n",
              "Info               object\n",
              "Abstract           object\n",
              "Abstract Length    object\n",
              "Title              object\n",
              "Authors            object\n",
              "Publisher          object\n",
              "Date               object\n",
              "dtype: object"
            ]
          },
          "metadata": {
            "tags": []
          },
          "execution_count": 15
        }
      ]
    },
    {
      "cell_type": "code",
      "metadata": {
        "id": "3QBzP6dXi_Cd",
        "colab_type": "code",
        "colab": {
          "base_uri": "https://localhost:8080/",
          "height": 289
        },
        "outputId": "a02fad79-c376-49aa-f940-32f14dafe7ee"
      },
      "source": [
        "pkl.info()"
      ],
      "execution_count": 16,
      "outputs": [
        {
          "output_type": "stream",
          "text": [
            "<class 'pandas.core.frame.DataFrame'>\n",
            "Index: 675 entries, 0 to 673\n",
            "Data columns (total 9 columns):\n",
            " #   Column           Non-Null Count  Dtype \n",
            "---  ------           --------------  ----- \n",
            " 0   Link             675 non-null    object\n",
            " 1   Text             674 non-null    object\n",
            " 2   Info             674 non-null    object\n",
            " 3   Abstract         674 non-null    object\n",
            " 4   Abstract Length  674 non-null    object\n",
            " 5   Title            674 non-null    object\n",
            " 6   Authors          673 non-null    object\n",
            " 7   Publisher        673 non-null    object\n",
            " 8   Date             675 non-null    object\n",
            "dtypes: object(9)\n",
            "memory usage: 72.7+ KB\n"
          ],
          "name": "stdout"
        }
      ]
    },
    {
      "cell_type": "code",
      "metadata": {
        "id": "Rt9R9eS6jDWx",
        "colab_type": "code",
        "colab": {
          "base_uri": "https://localhost:8080/",
          "height": 136
        },
        "outputId": "623e1caf-42b5-4647-e013-aaca64473f4c"
      },
      "source": [
        "pkl.axes"
      ],
      "execution_count": 17,
      "outputs": [
        {
          "output_type": "execute_result",
          "data": {
            "text/plain": [
              "[Index(['0', '1', '2', '3', '4', '5', '6', '7', '8', '9',\n",
              "        ...\n",
              "        '664', '665', '666', '667', '668', '669', '670', '671', '672', '673'],\n",
              "       dtype='object', name='Index', length=675),\n",
              " Index(['Link', 'Text', 'Info', 'Abstract', 'Abstract Length', 'Title',\n",
              "        'Authors', 'Publisher', 'Date'],\n",
              "       dtype='object')]"
            ]
          },
          "metadata": {
            "tags": []
          },
          "execution_count": 17
        }
      ]
    },
    {
      "cell_type": "code",
      "metadata": {
        "id": "cmrpSIUujL3q",
        "colab_type": "code",
        "colab": {
          "base_uri": "https://localhost:8080/",
          "height": 34
        },
        "outputId": "e745a5ea-fdf3-4c09-f349-f3c7b2ca2ff7"
      },
      "source": [
        "pkl.ndim"
      ],
      "execution_count": 18,
      "outputs": [
        {
          "output_type": "execute_result",
          "data": {
            "text/plain": [
              "2"
            ]
          },
          "metadata": {
            "tags": []
          },
          "execution_count": 18
        }
      ]
    },
    {
      "cell_type": "code",
      "metadata": {
        "id": "wTqgjRXCjQal",
        "colab_type": "code",
        "colab": {
          "base_uri": "https://localhost:8080/",
          "height": 164
        },
        "outputId": "a567a463-47f4-44c2-8959-17c2b36a48e5"
      },
      "source": [
        "pkl.at(0,'Date')"
      ],
      "execution_count": 19,
      "outputs": [
        {
          "output_type": "error",
          "ename": "TypeError",
          "evalue": "ignored",
          "traceback": [
            "\u001b[0;31m---------------------------------------------------------------------------\u001b[0m",
            "\u001b[0;31mTypeError\u001b[0m                                 Traceback (most recent call last)",
            "\u001b[0;32m<ipython-input-19-b58bed55fafd>\u001b[0m in \u001b[0;36m<module>\u001b[0;34m()\u001b[0m\n\u001b[0;32m----> 1\u001b[0;31m \u001b[0mpkl\u001b[0m\u001b[0;34m.\u001b[0m\u001b[0mat\u001b[0m\u001b[0;34m(\u001b[0m\u001b[0;36m0\u001b[0m\u001b[0;34m,\u001b[0m\u001b[0;34m'Date'\u001b[0m\u001b[0;34m)\u001b[0m\u001b[0;34m\u001b[0m\u001b[0;34m\u001b[0m\u001b[0m\n\u001b[0m",
            "\u001b[0;31mTypeError\u001b[0m: '_AtIndexer' object is not callable"
          ]
        }
      ]
    },
    {
      "cell_type": "code",
      "metadata": {
        "id": "NHU__8DZja8P",
        "colab_type": "code",
        "colab": {
          "base_uri": "https://localhost:8080/",
          "height": 34
        },
        "outputId": "306d6b29-e41e-4d6d-b0a4-34210999f51e"
      },
      "source": [
        "pkl.iloc(1)"
      ],
      "execution_count": 21,
      "outputs": [
        {
          "output_type": "execute_result",
          "data": {
            "text/plain": [
              "<pandas.core.indexing._iLocIndexer at 0x7f24372491d8>"
            ]
          },
          "metadata": {
            "tags": []
          },
          "execution_count": 21
        }
      ]
    },
    {
      "cell_type": "code",
      "metadata": {
        "id": "tco8nA-KjgIb",
        "colab_type": "code",
        "colab": {
          "base_uri": "https://localhost:8080/",
          "height": 238
        },
        "outputId": "0e6554f4-a5b8-4c57-f31f-3f410760a391"
      },
      "source": [
        "pkl['Abstract']"
      ],
      "execution_count": 23,
      "outputs": [
        {
          "output_type": "execute_result",
          "data": {
            "text/plain": [
              "Index\n",
              "0      \\n\\n \\nA primary component of flight managemen...\n",
              "1      \\n\\n§ Exceeding sensor limits shall latch an a...\n",
              "2                                                  error\n",
              "3      \\n\\nAbstract—Capturing and analyzing requireme...\n",
              "4                                                  error\n",
              "                             ...                        \n",
              "669    \\n\\nWhile simulating a complex set of repair t...\n",
              "670    Abstract:\\nGeneral Purpose Data-Driven System ...\n",
              "671    \\n\\nLarge complex aerospace systems are genera...\n",
              "672    \\n\\nAbstract \\nDASHlink is a public NASA resea...\n",
              "673    \\n\\nAbstract—The behavior of complex aerospace...\n",
              "Name: Abstract, Length: 675, dtype: object"
            ]
          },
          "metadata": {
            "tags": []
          },
          "execution_count": 23
        }
      ]
    },
    {
      "cell_type": "code",
      "metadata": {
        "id": "q_0oH0IlkWi3",
        "colab_type": "code",
        "colab": {}
      },
      "source": [
        "def preprocess_text(sen):\n",
        "    # Removing html tags\n",
        "    sentence = remove_tags(sen)\n",
        "\n",
        "    # Remove punctuations and numbers\n",
        "    sentence = re.sub('[^a-zA-Z]', ' ', sentence)\n",
        "\n",
        "    # Single character removal\n",
        "    sentence = re.sub(r\"\\s+[a-zA-Z]\\s+\", ' ', sentence)\n",
        "\n",
        "    # Removing multiple spaces\n",
        "    sentence = re.sub(r'\\s+', ' ', sentence)\n",
        "\n",
        "    return sentence"
      ],
      "execution_count": 24,
      "outputs": []
    },
    {
      "cell_type": "code",
      "metadata": {
        "id": "57gp1Zhol2gz",
        "colab_type": "code",
        "colab": {}
      },
      "source": [
        "import re\n",
        "TAG_RE = re.compile(r'<[^>]+>')\n",
        "\n",
        "def remove_tags(text):\n",
        "    return TAG_RE.sub('', text)"
      ],
      "execution_count": 26,
      "outputs": []
    },
    {
      "cell_type": "code",
      "metadata": {
        "id": "NnQMFIn-l6Ov",
        "colab_type": "code",
        "colab": {}
      },
      "source": [
        "abstracts = []\n",
        "sentences = list(pkl['Abstract'])\n",
        "for sen in sentences:\n",
        "    abstracts.append(preprocess_text(str(sen)))"
      ],
      "execution_count": 28,
      "outputs": []
    },
    {
      "cell_type": "code",
      "metadata": {
        "id": "iL1bRn_fmKMn",
        "colab_type": "code",
        "colab": {
          "base_uri": "https://localhost:8080/",
          "height": 35
        },
        "outputId": "29fcff7b-07c3-426a-f4ce-42225b21e1d9"
      },
      "source": [
        "abstracts[2]"
      ],
      "execution_count": 33,
      "outputs": [
        {
          "output_type": "execute_result",
          "data": {
            "application/vnd.google.colaboratory.intrinsic+json": {
              "type": "string"
            },
            "text/plain": [
              "'error'"
            ]
          },
          "metadata": {
            "tags": []
          },
          "execution_count": 33
        }
      ]
    },
    {
      "cell_type": "code",
      "metadata": {
        "id": "sNjb6l3Tmpmi",
        "colab_type": "code",
        "colab": {}
      },
      "source": [
        ""
      ],
      "execution_count": null,
      "outputs": []
    }
  ]
}